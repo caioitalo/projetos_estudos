{
  "nbformat": 4,
  "nbformat_minor": 0,
  "metadata": {
    "colab": {
      "provenance": [],
      "collapsed_sections": [
        "SZnjZG63bEPX",
        "RedO-GAdbNaI",
        "N3aaJfjFb-H9"
      ],
      "toc_visible": true,
      "authorship_tag": "ABX9TyOXVek3fFY54q6DKk1S2Dv/",
      "include_colab_link": true
    },
    "kernelspec": {
      "name": "python3",
      "display_name": "Python 3"
    },
    "language_info": {
      "name": "python"
    },
    "gpuClass": "standard"
  },
  "cells": [
    {
      "cell_type": "markdown",
      "metadata": {
        "id": "view-in-github",
        "colab_type": "text"
      },
      "source": [
        "<a href=\"https://colab.research.google.com/github/caioitalo/projetos_estudos/blob/main/Web_scrapping_Selenium_Beautifulsoup4.ipynb\" target=\"_parent\"><img src=\"https://colab.research.google.com/assets/colab-badge.svg\" alt=\"Open In Colab\"/></a>"
      ]
    },
    {
      "cell_type": "markdown",
      "source": [
        "# **INTRODUÇÃO**\n",
        "> O projeto a seguir visa o aprendizado de web-scraping utilizando a biblioteca **Selenium** - para alternar entre as páginas do site, bem como a **Beatiful Soup** - para acessar elementos do HTML e retirar informações desejadas.\n",
        ">\n",
        ">Ao final, foi realizado um pequeno **ETL** e **plots** utilizando a biblioteca **Pandas**\n",
        "\n",
        ">O projeto foi inspirado numa proposta de projeto de Data Engineering que pode ser checado nesse [link](https://medium.com/@meigarom/o-projeto-de-data-engineering-para-o-seu-portf%C3%B3lio-c186c7191823)\n",
        ">\n",
        ">O web-scraping realizado foi em um site próprio para o aprendizado de web-scraping. Aqui está o [link](http://books.toscrape.com/) para o acesso."
      ],
      "metadata": {
        "id": "a9k4oUfsgUHJ"
      }
    },
    {
      "cell_type": "markdown",
      "source": [
        "# **ALTERAÇÃO VERSÃO UBUNTU**"
      ],
      "metadata": {
        "id": "SZnjZG63bEPX"
      }
    },
    {
      "cell_type": "markdown",
      "source": [
        "> Por conta de uma atualização na versão ubuntu utilizado na VM do colab, teve-se que utilizar um código após a instalação da biblioteca selenium para que este funcione nessa plataforma."
      ],
      "metadata": {
        "id": "xuP1oQHZeW2t"
      }
    },
    {
      "cell_type": "code",
      "source": [
        "!pip install selenium\n",
        "!pip install psycopg2 #biblioteca de conexão com instância postgreSQL"
      ],
      "metadata": {
        "id": "3o4kndG0B-4G",
        "colab": {
          "base_uri": "https://localhost:8080/"
        },
        "outputId": "d6d73413-f2c2-475a-ab9b-c628b8f1ba1f"
      },
      "execution_count": 2,
      "outputs": [
        {
          "output_type": "stream",
          "name": "stdout",
          "text": [
            "Looking in indexes: https://pypi.org/simple, https://us-python.pkg.dev/colab-wheels/public/simple/\n",
            "Collecting selenium\n",
            "  Downloading selenium-4.8.0-py3-none-any.whl (6.3 MB)\n",
            "\u001b[2K     \u001b[90m━━━━━━━━━━━━━━━━━━━━━━━━━━━━━━━━━━━━━━━━\u001b[0m \u001b[32m6.3/6.3 MB\u001b[0m \u001b[31m50.1 MB/s\u001b[0m eta \u001b[36m0:00:00\u001b[0m\n",
            "\u001b[?25hCollecting trio~=0.17\n",
            "  Downloading trio-0.22.0-py3-none-any.whl (384 kB)\n",
            "\u001b[2K     \u001b[90m━━━━━━━━━━━━━━━━━━━━━━━━━━━━━━━━━━━━━━\u001b[0m \u001b[32m384.9/384.9 KB\u001b[0m \u001b[31m20.6 MB/s\u001b[0m eta \u001b[36m0:00:00\u001b[0m\n",
            "\u001b[?25hRequirement already satisfied: certifi>=2021.10.8 in /usr/local/lib/python3.8/dist-packages (from selenium) (2022.12.7)\n",
            "Collecting trio-websocket~=0.9\n",
            "  Downloading trio_websocket-0.9.2-py3-none-any.whl (16 kB)\n",
            "Collecting urllib3[socks]~=1.26\n",
            "  Downloading urllib3-1.26.14-py2.py3-none-any.whl (140 kB)\n",
            "\u001b[2K     \u001b[90m━━━━━━━━━━━━━━━━━━━━━━━━━━━━━━━━━━━━━━\u001b[0m \u001b[32m140.6/140.6 KB\u001b[0m \u001b[31m12.0 MB/s\u001b[0m eta \u001b[36m0:00:00\u001b[0m\n",
            "\u001b[?25hRequirement already satisfied: sortedcontainers in /usr/local/lib/python3.8/dist-packages (from trio~=0.17->selenium) (2.4.0)\n",
            "Collecting sniffio\n",
            "  Downloading sniffio-1.3.0-py3-none-any.whl (10 kB)\n",
            "Collecting outcome\n",
            "  Downloading outcome-1.2.0-py2.py3-none-any.whl (9.7 kB)\n",
            "Requirement already satisfied: attrs>=19.2.0 in /usr/local/lib/python3.8/dist-packages (from trio~=0.17->selenium) (22.2.0)\n",
            "Collecting async-generator>=1.9\n",
            "  Downloading async_generator-1.10-py3-none-any.whl (18 kB)\n",
            "Collecting exceptiongroup>=1.0.0rc9\n",
            "  Downloading exceptiongroup-1.1.0-py3-none-any.whl (14 kB)\n",
            "Requirement already satisfied: idna in /usr/local/lib/python3.8/dist-packages (from trio~=0.17->selenium) (2.10)\n",
            "Collecting wsproto>=0.14\n",
            "  Downloading wsproto-1.2.0-py3-none-any.whl (24 kB)\n",
            "Requirement already satisfied: PySocks!=1.5.7,<2.0,>=1.5.6 in /usr/local/lib/python3.8/dist-packages (from urllib3[socks]~=1.26->selenium) (1.7.1)\n",
            "Collecting h11<1,>=0.9.0\n",
            "  Downloading h11-0.14.0-py3-none-any.whl (58 kB)\n",
            "\u001b[2K     \u001b[90m━━━━━━━━━━━━━━━━━━━━━━━━━━━━━━━━━━━━━━━━\u001b[0m \u001b[32m58.3/58.3 KB\u001b[0m \u001b[31m4.3 MB/s\u001b[0m eta \u001b[36m0:00:00\u001b[0m\n",
            "\u001b[?25hInstalling collected packages: urllib3, sniffio, outcome, h11, exceptiongroup, async-generator, wsproto, trio, trio-websocket, selenium\n",
            "  Attempting uninstall: urllib3\n",
            "    Found existing installation: urllib3 1.24.3\n",
            "    Uninstalling urllib3-1.24.3:\n",
            "      Successfully uninstalled urllib3-1.24.3\n",
            "Successfully installed async-generator-1.10 exceptiongroup-1.1.0 h11-0.14.0 outcome-1.2.0 selenium-4.8.0 sniffio-1.3.0 trio-0.22.0 trio-websocket-0.9.2 urllib3-1.26.14 wsproto-1.2.0\n"
          ]
        }
      ]
    },
    {
      "cell_type": "code",
      "source": [
        "%%shell\n",
        "\n",
        "# Add debian buster\n",
        "cat > /etc/apt/sources.list.d/debian.list <<'EOF'\n",
        "deb [arch=amd64 signed-by=/usr/share/keyrings/debian-buster.gpg] http://deb.debian.org/debian buster main\n",
        "deb [arch=amd64 signed-by=/usr/share/keyrings/debian-buster-updates.gpg] http://deb.debian.org/debian buster-updates main\n",
        "deb [arch=amd64 signed-by=/usr/share/keyrings/debian-security-buster.gpg] http://deb.debian.org/debian-security buster/updates main\n",
        "EOF\n",
        "\n",
        "# Add keys\n",
        "apt-key adv --keyserver keyserver.ubuntu.com --recv-keys DCC9EFBF77E11517\n",
        "apt-key adv --keyserver keyserver.ubuntu.com --recv-keys 648ACFD622F3D138\n",
        "apt-key adv --keyserver keyserver.ubuntu.com --recv-keys 112695A0E562B32A\n",
        "\n",
        "apt-key export 77E11517 | gpg --dearmour -o /usr/share/keyrings/debian-buster.gpg\n",
        "apt-key export 22F3D138 | gpg --dearmour -o /usr/share/keyrings/debian-buster-updates.gpg\n",
        "apt-key export E562B32A | gpg --dearmour -o /usr/share/keyrings/debian-security-buster.gpg\n",
        "\n",
        "# Prefer debian repo for chromium* packages only\n",
        "# Note the double-blank lines between entries\n",
        "cat > /etc/apt/preferences.d/chromium.pref << 'EOF'\n",
        "Package: *\n",
        "Pin: release a=eoan\n",
        "Pin-Priority: 500\n",
        "\n",
        "\n",
        "Package: *\n",
        "Pin: origin \"deb.debian.org\"\n",
        "Pin-Priority: 300\n",
        "\n",
        "\n",
        "Package: chromium*\n",
        "Pin: origin \"deb.debian.org\"\n",
        "Pin-Priority: 700\n",
        "EOF"
      ],
      "metadata": {
        "id": "QsxyZhys-zCm",
        "colab": {
          "base_uri": "https://localhost:8080/"
        },
        "outputId": "e2a4939a-bbc7-4198-e5e8-1c1ae44cc6f3"
      },
      "execution_count": 3,
      "outputs": [
        {
          "output_type": "stream",
          "name": "stdout",
          "text": [
            "Executing: /tmp/apt-key-gpghome.NrJxvbhTu0/gpg.1.sh --keyserver keyserver.ubuntu.com --recv-keys DCC9EFBF77E11517\n",
            "gpg: key DCC9EFBF77E11517: public key \"Debian Stable Release Key (10/buster) <debian-release@lists.debian.org>\" imported\n",
            "gpg: Total number processed: 1\n",
            "gpg:               imported: 1\n",
            "Executing: /tmp/apt-key-gpghome.tdl88fJMAd/gpg.1.sh --keyserver keyserver.ubuntu.com --recv-keys 648ACFD622F3D138\n",
            "gpg: key DC30D7C23CBBABEE: public key \"Debian Archive Automatic Signing Key (10/buster) <ftpmaster@debian.org>\" imported\n",
            "gpg: Total number processed: 1\n",
            "gpg:               imported: 1\n",
            "Executing: /tmp/apt-key-gpghome.9zUhATneYs/gpg.1.sh --keyserver keyserver.ubuntu.com --recv-keys 112695A0E562B32A\n",
            "gpg: key 4DFAB270CAA96DFA: public key \"Debian Security Archive Automatic Signing Key (10/buster) <ftpmaster@debian.org>\" imported\n",
            "gpg: Total number processed: 1\n",
            "gpg:               imported: 1\n",
            "Warning: apt-key output should not be parsed (stdout is not a terminal)\n",
            "Warning: apt-key output should not be parsed (stdout is not a terminal)\n",
            "Warning: apt-key output should not be parsed (stdout is not a terminal)\n"
          ]
        },
        {
          "output_type": "execute_result",
          "data": {
            "text/plain": []
          },
          "metadata": {},
          "execution_count": 3
        }
      ]
    },
    {
      "cell_type": "markdown",
      "source": [
        "# **INSTALAÇÃO E IMPORTAÇÃO DE BIBLIOTECAS**"
      ],
      "metadata": {
        "id": "RedO-GAdbNaI"
      }
    },
    {
      "cell_type": "code",
      "execution_count": 4,
      "metadata": {
        "id": "q8jXk5AYCXQf"
      },
      "outputs": [],
      "source": [
        "import pandas as pd\n",
        "import requests\n",
        "from bs4 import BeautifulSoup\n",
        "from selenium import webdriver\n",
        "from selenium.webdriver.common.keys import Keys\n",
        "from selenium.webdriver.common.by import By\n",
        "from selenium.webdriver.chrome.options import Options\n",
        "from selenium.common.exceptions import NoSuchElementException\n",
        "import json\n"
      ]
    },
    {
      "cell_type": "code",
      "source": [
        "!apt-get update\n",
        "!apt-get install chromium chromium-driver"
      ],
      "metadata": {
        "id": "NuuOORUpaSLb",
        "colab": {
          "base_uri": "https://localhost:8080/"
        },
        "outputId": "39701afb-7263-43ae-c581-215487536781"
      },
      "execution_count": 5,
      "outputs": [
        {
          "output_type": "stream",
          "name": "stdout",
          "text": [
            "\r0% [Working]\r            \rGet:1 http://deb.debian.org/debian buster InRelease [122 kB]\n",
            "\r0% [Connecting to archive.ubuntu.com] [Connecting to security.ubuntu.com] [Conn\r0% [Connecting to archive.ubuntu.com] [Connecting to security.ubuntu.com] [Conn\r                                                                               \rGet:2 https://cloud.r-project.org/bin/linux/ubuntu focal-cran40/ InRelease [3,622 B]\n",
            "\r                                                                               \rGet:3 http://deb.debian.org/debian buster-updates InRelease [56.6 kB]\n",
            "Get:4 http://deb.debian.org/debian-security buster/updates InRelease [34.8 kB]\n",
            "Hit:5 http://archive.ubuntu.com/ubuntu focal InRelease\n",
            "Get:6 http://security.ubuntu.com/ubuntu focal-security InRelease [114 kB]\n",
            "Ign:7 https://developer.download.nvidia.com/compute/machine-learning/repos/ubuntu2004/x86_64  InRelease\n",
            "Get:8 http://deb.debian.org/debian buster/main amd64 Packages [10.7 MB]\n",
            "Hit:9 https://developer.download.nvidia.com/compute/cuda/repos/ubuntu2004/x86_64  InRelease\n",
            "Hit:10 https://developer.download.nvidia.com/compute/machine-learning/repos/ubuntu2004/x86_64  Release\n",
            "Hit:11 http://ppa.launchpad.net/c2d4u.team/c2d4u4.0+/ubuntu focal InRelease\n",
            "Get:12 http://archive.ubuntu.com/ubuntu focal-updates InRelease [114 kB]\n",
            "Hit:13 http://ppa.launchpad.net/cran/libgit2/ubuntu focal InRelease\n",
            "Hit:14 http://ppa.launchpad.net/deadsnakes/ppa/ubuntu focal InRelease\n",
            "Get:15 http://archive.ubuntu.com/ubuntu focal-backports InRelease [108 kB]\n",
            "Hit:16 http://ppa.launchpad.net/graphics-drivers/ppa/ubuntu focal InRelease\n",
            "Get:17 http://deb.debian.org/debian buster-updates/main amd64 Packages [9,745 B]\n",
            "Get:18 http://deb.debian.org/debian-security buster/updates/main amd64 Packages [546 kB]\n",
            "Get:20 http://archive.ubuntu.com/ubuntu focal-updates/universe amd64 Packages [1,291 kB]\n",
            "Get:21 http://archive.ubuntu.com/ubuntu focal-updates/main amd64 Packages [2,921 kB]\n",
            "Fetched 16.1 MB in 5s (3,470 kB/s)\n",
            "Reading package lists... Done\n",
            "Reading package lists... Done\n",
            "Building dependency tree       \n",
            "Reading state information... Done\n",
            "The following package was automatically installed and is no longer required:\n",
            "  libnvidia-common-510\n",
            "Use 'apt autoremove' to remove it.\n",
            "The following additional packages will be installed:\n",
            "  chromium-common chromium-sandbox libevent-2.1-6 libicu63 libimobiledevice6\n",
            "  libjpeg62-turbo libplist3 libre2-5 libu2f-udev libusbmuxd6 libvpx5\n",
            "  libxxf86dga1 upower usbmuxd x11-utils\n",
            "Suggested packages:\n",
            "  chromium-l10n chromium-shell libusbmuxd-tools mesa-utils\n",
            "The following NEW packages will be installed:\n",
            "  chromium chromium-common chromium-driver chromium-sandbox libevent-2.1-6\n",
            "  libicu63 libimobiledevice6 libjpeg62-turbo libplist3 libre2-5 libu2f-udev\n",
            "  libusbmuxd6 libvpx5 libxxf86dga1 upower usbmuxd x11-utils\n",
            "0 upgraded, 17 newly installed, 0 to remove and 27 not upgraded.\n",
            "Need to get 74.6 MB of archives.\n",
            "After this operation, 256 MB of additional disk space will be used.\n",
            "Get:1 http://deb.debian.org/debian buster/main amd64 libevent-2.1-6 amd64 2.1.8-stable-4 [177 kB]\n",
            "Get:2 http://deb.debian.org/debian buster/main amd64 libicu63 amd64 63.1-6+deb10u3 [8,293 kB]\n",
            "Get:3 http://deb.debian.org/debian buster/main amd64 libjpeg62-turbo amd64 1:1.5.2-2+deb10u1 [133 kB]\n",
            "Get:4 http://deb.debian.org/debian buster/main amd64 libvpx5 amd64 1.7.0-3+deb10u1 [800 kB]\n",
            "Get:5 http://deb.debian.org/debian buster/main amd64 chromium-common amd64 90.0.4430.212-1~deb10u1 [1,423 kB]\n",
            "Get:6 http://deb.debian.org/debian buster/main amd64 chromium amd64 90.0.4430.212-1~deb10u1 [58.3 MB]\n",
            "Get:7 http://archive.ubuntu.com/ubuntu focal/main amd64 libre2-5 amd64 20200101+dfsg-1build1 [162 kB]\n",
            "Get:8 http://archive.ubuntu.com/ubuntu focal/main amd64 libxxf86dga1 amd64 2:1.1.5-0ubuntu1 [12.0 kB]\n",
            "Get:9 http://archive.ubuntu.com/ubuntu focal/main amd64 x11-utils amd64 7.7+5 [199 kB]\n",
            "Get:10 http://deb.debian.org/debian buster/main amd64 chromium-driver amd64 90.0.4430.212-1~deb10u1 [4,703 kB]\n",
            "Get:11 http://archive.ubuntu.com/ubuntu focal/main amd64 libplist3 amd64 2.1.0-4build2 [31.6 kB]\n",
            "Get:12 http://deb.debian.org/debian buster/main amd64 chromium-sandbox amd64 90.0.4430.212-1~deb10u1 [146 kB]\n",
            "Get:13 http://archive.ubuntu.com/ubuntu focal/main amd64 libusbmuxd6 amd64 2.0.1-2 [19.1 kB]\n",
            "Get:14 http://archive.ubuntu.com/ubuntu focal/main amd64 libimobiledevice6 amd64 1.2.1~git20191129.9f79242-1build1 [65.2 kB]\n",
            "Get:15 http://archive.ubuntu.com/ubuntu focal/main amd64 libu2f-udev all 1.1.10-1 [6,108 B]\n",
            "Get:16 http://archive.ubuntu.com/ubuntu focal/main amd64 upower amd64 0.99.11-1build2 [104 kB]\n",
            "Get:17 http://archive.ubuntu.com/ubuntu focal/main amd64 usbmuxd amd64 1.1.1~git20191130.9af2b12-1 [38.4 kB]\n",
            "Fetched 74.6 MB in 1s (106 MB/s)\n",
            "Selecting previously unselected package libevent-2.1-6:amd64.\n",
            "(Reading database ... 129496 files and directories currently installed.)\n",
            "Preparing to unpack .../00-libevent-2.1-6_2.1.8-stable-4_amd64.deb ...\n",
            "Unpacking libevent-2.1-6:amd64 (2.1.8-stable-4) ...\n",
            "Selecting previously unselected package libicu63:amd64.\n",
            "Preparing to unpack .../01-libicu63_63.1-6+deb10u3_amd64.deb ...\n",
            "Unpacking libicu63:amd64 (63.1-6+deb10u3) ...\n",
            "Selecting previously unselected package libjpeg62-turbo:amd64.\n",
            "Preparing to unpack .../02-libjpeg62-turbo_1%3a1.5.2-2+deb10u1_amd64.deb ...\n",
            "Unpacking libjpeg62-turbo:amd64 (1:1.5.2-2+deb10u1) ...\n",
            "Selecting previously unselected package libre2-5:amd64.\n",
            "Preparing to unpack .../03-libre2-5_20200101+dfsg-1build1_amd64.deb ...\n",
            "Unpacking libre2-5:amd64 (20200101+dfsg-1build1) ...\n",
            "Selecting previously unselected package libvpx5:amd64.\n",
            "Preparing to unpack .../04-libvpx5_1.7.0-3+deb10u1_amd64.deb ...\n",
            "Unpacking libvpx5:amd64 (1.7.0-3+deb10u1) ...\n",
            "Selecting previously unselected package libxxf86dga1:amd64.\n",
            "Preparing to unpack .../05-libxxf86dga1_2%3a1.1.5-0ubuntu1_amd64.deb ...\n",
            "Unpacking libxxf86dga1:amd64 (2:1.1.5-0ubuntu1) ...\n",
            "Selecting previously unselected package x11-utils.\n",
            "Preparing to unpack .../06-x11-utils_7.7+5_amd64.deb ...\n",
            "Unpacking x11-utils (7.7+5) ...\n",
            "Selecting previously unselected package chromium-common.\n",
            "Preparing to unpack .../07-chromium-common_90.0.4430.212-1~deb10u1_amd64.deb ...\n",
            "Unpacking chromium-common (90.0.4430.212-1~deb10u1) ...\n",
            "Selecting previously unselected package chromium.\n",
            "Preparing to unpack .../08-chromium_90.0.4430.212-1~deb10u1_amd64.deb ...\n",
            "Unpacking chromium (90.0.4430.212-1~deb10u1) ...\n",
            "Selecting previously unselected package chromium-driver.\n",
            "Preparing to unpack .../09-chromium-driver_90.0.4430.212-1~deb10u1_amd64.deb ...\n",
            "Unpacking chromium-driver (90.0.4430.212-1~deb10u1) ...\n",
            "Selecting previously unselected package chromium-sandbox.\n",
            "Preparing to unpack .../10-chromium-sandbox_90.0.4430.212-1~deb10u1_amd64.deb ...\n",
            "Unpacking chromium-sandbox (90.0.4430.212-1~deb10u1) ...\n",
            "Selecting previously unselected package libplist3:amd64.\n",
            "Preparing to unpack .../11-libplist3_2.1.0-4build2_amd64.deb ...\n",
            "Unpacking libplist3:amd64 (2.1.0-4build2) ...\n",
            "Selecting previously unselected package libusbmuxd6:amd64.\n",
            "Preparing to unpack .../12-libusbmuxd6_2.0.1-2_amd64.deb ...\n",
            "Unpacking libusbmuxd6:amd64 (2.0.1-2) ...\n",
            "Selecting previously unselected package libimobiledevice6:amd64.\n",
            "Preparing to unpack .../13-libimobiledevice6_1.2.1~git20191129.9f79242-1build1_amd64.deb ...\n",
            "Unpacking libimobiledevice6:amd64 (1.2.1~git20191129.9f79242-1build1) ...\n",
            "Selecting previously unselected package libu2f-udev.\n",
            "Preparing to unpack .../14-libu2f-udev_1.1.10-1_all.deb ...\n",
            "Unpacking libu2f-udev (1.1.10-1) ...\n",
            "Selecting previously unselected package upower.\n",
            "Preparing to unpack .../15-upower_0.99.11-1build2_amd64.deb ...\n",
            "Unpacking upower (0.99.11-1build2) ...\n",
            "Selecting previously unselected package usbmuxd.\n",
            "Preparing to unpack .../16-usbmuxd_1.1.1~git20191130.9af2b12-1_amd64.deb ...\n",
            "Unpacking usbmuxd (1.1.1~git20191130.9af2b12-1) ...\n",
            "Setting up libplist3:amd64 (2.1.0-4build2) ...\n",
            "Setting up libu2f-udev (1.1.10-1) ...\n",
            "Failed to send reload request: No such file or directory\n",
            "Setting up libxxf86dga1:amd64 (2:1.1.5-0ubuntu1) ...\n",
            "Setting up chromium-sandbox (90.0.4430.212-1~deb10u1) ...\n",
            "Setting up libicu63:amd64 (63.1-6+deb10u3) ...\n",
            "Setting up libjpeg62-turbo:amd64 (1:1.5.2-2+deb10u1) ...\n",
            "Setting up libevent-2.1-6:amd64 (2.1.8-stable-4) ...\n",
            "Setting up libusbmuxd6:amd64 (2.0.1-2) ...\n",
            "Setting up x11-utils (7.7+5) ...\n",
            "Setting up libre2-5:amd64 (20200101+dfsg-1build1) ...\n",
            "Setting up chromium-common (90.0.4430.212-1~deb10u1) ...\n",
            "Setting up libimobiledevice6:amd64 (1.2.1~git20191129.9f79242-1build1) ...\n",
            "Setting up libvpx5:amd64 (1.7.0-3+deb10u1) ...\n",
            "Setting up upower (0.99.11-1build2) ...\n",
            "Setting up usbmuxd (1.1.1~git20191130.9af2b12-1) ...\n",
            "Warning: The home dir /var/lib/usbmux you specified can't be accessed: No such file or directory\n",
            "Adding system user `usbmux' (UID 107) ...\n",
            "Adding new user `usbmux' (UID 107) with group `plugdev' ...\n",
            "Not creating home directory `/var/lib/usbmux'.\n",
            "Setting up chromium (90.0.4430.212-1~deb10u1) ...\n",
            "update-alternatives: using /usr/bin/chromium to provide /usr/bin/x-www-browser (x-www-browser) in auto mode\n",
            "update-alternatives: using /usr/bin/chromium to provide /usr/bin/gnome-www-browser (gnome-www-browser) in auto mode\n",
            "Setting up chromium-driver (90.0.4430.212-1~deb10u1) ...\n",
            "Processing triggers for man-db (2.9.1-1) ...\n",
            "Processing triggers for dbus (1.12.16-2ubuntu2.3) ...\n",
            "Processing triggers for mime-support (3.64ubuntu1) ...\n",
            "Processing triggers for hicolor-icon-theme (0.17-2) ...\n",
            "Processing triggers for libc-bin (2.31-0ubuntu9.9) ...\n"
          ]
        }
      ]
    },
    {
      "cell_type": "markdown",
      "source": [
        "# **CRIAÇÃO DO WEBDRIVER E DO SOUP**"
      ],
      "metadata": {
        "id": "EwDPQH7ZbaeW"
      }
    },
    {
      "cell_type": "markdown",
      "source": [
        "## Criação de webdriver selenium"
      ],
      "metadata": {
        "id": "N3aaJfjFb-H9"
      }
    },
    {
      "cell_type": "code",
      "source": [
        "def web_driver():\n",
        "    options = webdriver.ChromeOptions()\n",
        "    options.add_argument(\"--verbose\")\n",
        "    options.add_argument('--no-sandbox')\n",
        "    options.add_argument('--headless')\n",
        "    options.add_argument('--disable-gpu')\n",
        "    options.add_argument(\"--window-size=1920, 1200\")\n",
        "    options.add_argument('--disable-dev-shm-usage')\n",
        "    driver = webdriver.Chrome( options=options)\n",
        "    return driver"
      ],
      "metadata": {
        "id": "DWiEKnZFZVdN"
      },
      "execution_count": 6,
      "outputs": []
    },
    {
      "cell_type": "code",
      "source": [
        "driver = web_driver()"
      ],
      "metadata": {
        "id": "4W1-2f8rZXfN"
      },
      "execution_count": 7,
      "outputs": []
    },
    {
      "cell_type": "code",
      "source": [
        "# teste se o webdriver do selenium funciona\n",
        "driver.get('https://www.google.com')\n",
        "driver.title"
      ],
      "metadata": {
        "colab": {
          "base_uri": "https://localhost:8080/",
          "height": 0
        },
        "id": "xpCEm75-ZXzP",
        "outputId": "80f5921b-1786-4296-e78d-280d72028fd3"
      },
      "execution_count": 8,
      "outputs": [
        {
          "output_type": "execute_result",
          "data": {
            "text/plain": [
              "'Google'"
            ],
            "application/vnd.google.colaboratory.intrinsic+json": {
              "type": "string"
            }
          },
          "metadata": {},
          "execution_count": 8
        }
      ]
    },
    {
      "cell_type": "markdown",
      "source": [
        "## Criação da Soup utilizando a página inicial do books.toscrape"
      ],
      "metadata": {
        "id": "y1AVBMk4fJah"
      }
    },
    {
      "cell_type": "code",
      "source": [
        "driver.get('http://books.toscrape.com/catalogue/category/books/travel_2/index.html')\n",
        "pag_atual = driver.current_url\n",
        "acesso_bs = requests.get(pag_atual)\n",
        "books_soup = BeautifulSoup(acesso_bs.text, 'html.parser')"
      ],
      "metadata": {
        "id": "zm8VSuPOv6K6"
      },
      "execution_count": 9,
      "outputs": []
    },
    {
      "cell_type": "markdown",
      "source": [
        "# **WEB SCRAPING**"
      ],
      "metadata": {
        "id": "CsrXIoF4cD1c"
      }
    },
    {
      "cell_type": "markdown",
      "source": [
        "> O procedimento de web scraping pensado foi dividido em 3 etapas:\n",
        "\n",
        "1.   Lia-se as informações necessárias dos livros na página\n",
        "2.   Ia para a próxima página dentro da mesma categoria\n",
        "3.   Caso não houvesse mais páginas dentro da categoria, trocava-se para a próxima categoria\n",
        "\n"
      ],
      "metadata": {
        "id": "YFlHVkVsfbe4"
      }
    },
    {
      "cell_type": "code",
      "source": [
        "# coleta de links das categorias\n",
        "links = []\n",
        "for i in range(1, 51): \n",
        "  links.append(driver.find_element(By.CSS_SELECTOR,f'#default > div > div > div > aside > div.side_categories > ul > li > ul > li:nth-child({i}) > a').get_attribute('href'))\n"
      ],
      "metadata": {
        "id": "fL9SPvdOw466"
      },
      "execution_count": 10,
      "outputs": []
    },
    {
      "cell_type": "code",
      "source": [
        "def consulta_livro(browser, livro, soup):\n",
        "  '''\n",
        "  Função que procura e extrai informações de que cada livro da página\n",
        "  \n",
        "  Argumentos:\n",
        "  - browser: instância utilizada no Selenium;\n",
        "  - livro: dicionário contendo chave e valor de cada elemento HTML correspondente a cada livro da página\n",
        "  - soup: sessão soup bs4 \n",
        "\n",
        "  '''\n",
        "  livro = {'nome':livro.h3.a['title'],\n",
        "          'categoria':soup.h1.get_text(),\n",
        "          'preco':livro.find('p',class_='price_color').get_text()[2:],\n",
        "          'rating':livro.p['class'][1],\n",
        "          'estoque':livro.find('p',class_='instock availability').get_text().strip()}\n",
        "\n",
        "  return livro"
      ],
      "metadata": {
        "id": "bqtJBDPnsYon"
      },
      "execution_count": 11,
      "outputs": []
    },
    {
      "cell_type": "code",
      "source": [
        "catalogo= []\n",
        "\n",
        "i=-1\n",
        "while True:\n",
        "  elementos = books_soup.find_all(\"article\")\n",
        "  for livro in elementos:\n",
        "    catalogo.append(consulta_livro(driver, livro, books_soup))\n",
        "    \n",
        "  try: # primeiro procura-se se há um botão para ir à próxima página na mesma categoria\n",
        "    driver.find_element(By.CSS_SELECTOR, '#default > div > div > div > div > section > div:nth-child(2) > div > ul > li.next > a').click()\n",
        "    driver.get(driver.current_url)\n",
        "    acesso_bs = requests.get(driver.current_url)\n",
        "    books_soup = BeautifulSoup(acesso_bs.text, 'html.parser')\n",
        "\n",
        "        \n",
        "  except NoSuchElementException: # Caso não haja o botão de próxima página, vai-se para a próxima categoria até que pare na última.\n",
        "    i+=1\n",
        "    if i == 50:\n",
        "      break\n",
        "    driver.get(links[i])\n",
        "    acesso_bs = requests.get(links[i])\n",
        "    books_soup = BeautifulSoup(acesso_bs.text, 'html.parser')\n",
        "      "
      ],
      "metadata": {
        "id": "EPrtsbDFs7-5"
      },
      "execution_count": 12,
      "outputs": []
    },
    {
      "cell_type": "code",
      "source": [
        "len(catalogo)"
      ],
      "metadata": {
        "id": "imyeK9yJ8Wfe",
        "colab": {
          "base_uri": "https://localhost:8080/"
        },
        "outputId": "2c5f79ca-e64a-43d0-df10-08f27fac8682"
      },
      "execution_count": 13,
      "outputs": [
        {
          "output_type": "execute_result",
          "data": {
            "text/plain": [
              "1011"
            ]
          },
          "metadata": {},
          "execution_count": 13
        }
      ]
    },
    {
      "cell_type": "code",
      "source": [
        "catalogo[-1]"
      ],
      "metadata": {
        "id": "rnBsYU4mRrKw",
        "colab": {
          "base_uri": "https://localhost:8080/"
        },
        "outputId": "93db846c-42db-4c6a-9898-f04fa099c01a"
      },
      "execution_count": 14,
      "outputs": [
        {
          "output_type": "execute_result",
          "data": {
            "text/plain": [
              "{'nome': 'The Long Shadow of Small Ghosts: Murder and Memory in an American City',\n",
              " 'categoria': 'Crime',\n",
              " 'preco': '10.97',\n",
              " 'rating': 'One',\n",
              " 'estoque': 'In stock'}"
            ]
          },
          "metadata": {},
          "execution_count": 14
        }
      ]
    },
    {
      "cell_type": "markdown",
      "source": [
        "# **ETL**"
      ],
      "metadata": {
        "id": "XlhWikU-kTHC"
      }
    },
    {
      "cell_type": "markdown",
      "source": [
        "## **Transformação da lista para um pandas Dataframe**"
      ],
      "metadata": {
        "id": "g4ICnDwSn3uc"
      }
    },
    {
      "cell_type": "markdown",
      "source": [
        "> Primeiro utilizou-se a biblioteca json para transformar a lista de dicionários em um arquivo json e, em seguida, houve a leitura desse arquivo para um dataframe Pandas"
      ],
      "metadata": {
        "id": "WONaEci9oIDY"
      }
    },
    {
      "cell_type": "code",
      "source": [
        "objeto = json.dumps(catalogo,indent=5)"
      ],
      "metadata": {
        "id": "C_jtFxCT-Hf_"
      },
      "execution_count": 15,
      "outputs": []
    },
    {
      "cell_type": "code",
      "source": [
        "df = pd.read_json(objeto)\n",
        "df"
      ],
      "metadata": {
        "id": "FeWHKJ2r-wgl",
        "colab": {
          "base_uri": "https://localhost:8080/",
          "height": 424
        },
        "outputId": "f12000d7-997d-45e8-fc73-1dd67d969371"
      },
      "execution_count": 16,
      "outputs": [
        {
          "output_type": "execute_result",
          "data": {
            "text/plain": [
              "                                                   nome categoria  preco  \\\n",
              "0                               It's Only the Himalayas    Travel  45.17   \n",
              "1     Full Moon over Noahâs Ark: An Odyssey to Mou...    Travel  49.43   \n",
              "2     See America: A Celebration of Our National Par...    Travel  48.87   \n",
              "3     Vagabonding: An Uncommon Guide to the Art of L...    Travel  36.94   \n",
              "4                                  Under the Tuscan Sun    Travel  37.33   \n",
              "...                                                 ...       ...    ...   \n",
              "1006  Why the Right Went Wrong: Conservatism--From G...  Politics  52.65   \n",
              "1007  Equal Is Unfair: America's Misguided Fight Aga...  Politics  56.86   \n",
              "1008                                     Amid the Chaos  Cultural  36.58   \n",
              "1009                                         Dark Notes   Erotica  19.19   \n",
              "1010  The Long Shadow of Small Ghosts: Murder and Me...     Crime  10.97   \n",
              "\n",
              "     rating   estoque  \n",
              "0       Two  In stock  \n",
              "1      Four  In stock  \n",
              "2     Three  In stock  \n",
              "3       Two  In stock  \n",
              "4     Three  In stock  \n",
              "...     ...       ...  \n",
              "1006   Four  In stock  \n",
              "1007    One  In stock  \n",
              "1008    One  In stock  \n",
              "1009   Five  In stock  \n",
              "1010    One  In stock  \n",
              "\n",
              "[1011 rows x 5 columns]"
            ],
            "text/html": [
              "\n",
              "  <div id=\"df-ad657a51-372f-4d5b-8fed-349fcd67ae00\">\n",
              "    <div class=\"colab-df-container\">\n",
              "      <div>\n",
              "<style scoped>\n",
              "    .dataframe tbody tr th:only-of-type {\n",
              "        vertical-align: middle;\n",
              "    }\n",
              "\n",
              "    .dataframe tbody tr th {\n",
              "        vertical-align: top;\n",
              "    }\n",
              "\n",
              "    .dataframe thead th {\n",
              "        text-align: right;\n",
              "    }\n",
              "</style>\n",
              "<table border=\"1\" class=\"dataframe\">\n",
              "  <thead>\n",
              "    <tr style=\"text-align: right;\">\n",
              "      <th></th>\n",
              "      <th>nome</th>\n",
              "      <th>categoria</th>\n",
              "      <th>preco</th>\n",
              "      <th>rating</th>\n",
              "      <th>estoque</th>\n",
              "    </tr>\n",
              "  </thead>\n",
              "  <tbody>\n",
              "    <tr>\n",
              "      <th>0</th>\n",
              "      <td>It's Only the Himalayas</td>\n",
              "      <td>Travel</td>\n",
              "      <td>45.17</td>\n",
              "      <td>Two</td>\n",
              "      <td>In stock</td>\n",
              "    </tr>\n",
              "    <tr>\n",
              "      <th>1</th>\n",
              "      <td>Full Moon over Noahâs Ark: An Odyssey to Mou...</td>\n",
              "      <td>Travel</td>\n",
              "      <td>49.43</td>\n",
              "      <td>Four</td>\n",
              "      <td>In stock</td>\n",
              "    </tr>\n",
              "    <tr>\n",
              "      <th>2</th>\n",
              "      <td>See America: A Celebration of Our National Par...</td>\n",
              "      <td>Travel</td>\n",
              "      <td>48.87</td>\n",
              "      <td>Three</td>\n",
              "      <td>In stock</td>\n",
              "    </tr>\n",
              "    <tr>\n",
              "      <th>3</th>\n",
              "      <td>Vagabonding: An Uncommon Guide to the Art of L...</td>\n",
              "      <td>Travel</td>\n",
              "      <td>36.94</td>\n",
              "      <td>Two</td>\n",
              "      <td>In stock</td>\n",
              "    </tr>\n",
              "    <tr>\n",
              "      <th>4</th>\n",
              "      <td>Under the Tuscan Sun</td>\n",
              "      <td>Travel</td>\n",
              "      <td>37.33</td>\n",
              "      <td>Three</td>\n",
              "      <td>In stock</td>\n",
              "    </tr>\n",
              "    <tr>\n",
              "      <th>...</th>\n",
              "      <td>...</td>\n",
              "      <td>...</td>\n",
              "      <td>...</td>\n",
              "      <td>...</td>\n",
              "      <td>...</td>\n",
              "    </tr>\n",
              "    <tr>\n",
              "      <th>1006</th>\n",
              "      <td>Why the Right Went Wrong: Conservatism--From G...</td>\n",
              "      <td>Politics</td>\n",
              "      <td>52.65</td>\n",
              "      <td>Four</td>\n",
              "      <td>In stock</td>\n",
              "    </tr>\n",
              "    <tr>\n",
              "      <th>1007</th>\n",
              "      <td>Equal Is Unfair: America's Misguided Fight Aga...</td>\n",
              "      <td>Politics</td>\n",
              "      <td>56.86</td>\n",
              "      <td>One</td>\n",
              "      <td>In stock</td>\n",
              "    </tr>\n",
              "    <tr>\n",
              "      <th>1008</th>\n",
              "      <td>Amid the Chaos</td>\n",
              "      <td>Cultural</td>\n",
              "      <td>36.58</td>\n",
              "      <td>One</td>\n",
              "      <td>In stock</td>\n",
              "    </tr>\n",
              "    <tr>\n",
              "      <th>1009</th>\n",
              "      <td>Dark Notes</td>\n",
              "      <td>Erotica</td>\n",
              "      <td>19.19</td>\n",
              "      <td>Five</td>\n",
              "      <td>In stock</td>\n",
              "    </tr>\n",
              "    <tr>\n",
              "      <th>1010</th>\n",
              "      <td>The Long Shadow of Small Ghosts: Murder and Me...</td>\n",
              "      <td>Crime</td>\n",
              "      <td>10.97</td>\n",
              "      <td>One</td>\n",
              "      <td>In stock</td>\n",
              "    </tr>\n",
              "  </tbody>\n",
              "</table>\n",
              "<p>1011 rows × 5 columns</p>\n",
              "</div>\n",
              "      <button class=\"colab-df-convert\" onclick=\"convertToInteractive('df-ad657a51-372f-4d5b-8fed-349fcd67ae00')\"\n",
              "              title=\"Convert this dataframe to an interactive table.\"\n",
              "              style=\"display:none;\">\n",
              "        \n",
              "  <svg xmlns=\"http://www.w3.org/2000/svg\" height=\"24px\"viewBox=\"0 0 24 24\"\n",
              "       width=\"24px\">\n",
              "    <path d=\"M0 0h24v24H0V0z\" fill=\"none\"/>\n",
              "    <path d=\"M18.56 5.44l.94 2.06.94-2.06 2.06-.94-2.06-.94-.94-2.06-.94 2.06-2.06.94zm-11 1L8.5 8.5l.94-2.06 2.06-.94-2.06-.94L8.5 2.5l-.94 2.06-2.06.94zm10 10l.94 2.06.94-2.06 2.06-.94-2.06-.94-.94-2.06-.94 2.06-2.06.94z\"/><path d=\"M17.41 7.96l-1.37-1.37c-.4-.4-.92-.59-1.43-.59-.52 0-1.04.2-1.43.59L10.3 9.45l-7.72 7.72c-.78.78-.78 2.05 0 2.83L4 21.41c.39.39.9.59 1.41.59.51 0 1.02-.2 1.41-.59l7.78-7.78 2.81-2.81c.8-.78.8-2.07 0-2.86zM5.41 20L4 18.59l7.72-7.72 1.47 1.35L5.41 20z\"/>\n",
              "  </svg>\n",
              "      </button>\n",
              "      \n",
              "  <style>\n",
              "    .colab-df-container {\n",
              "      display:flex;\n",
              "      flex-wrap:wrap;\n",
              "      gap: 12px;\n",
              "    }\n",
              "\n",
              "    .colab-df-convert {\n",
              "      background-color: #E8F0FE;\n",
              "      border: none;\n",
              "      border-radius: 50%;\n",
              "      cursor: pointer;\n",
              "      display: none;\n",
              "      fill: #1967D2;\n",
              "      height: 32px;\n",
              "      padding: 0 0 0 0;\n",
              "      width: 32px;\n",
              "    }\n",
              "\n",
              "    .colab-df-convert:hover {\n",
              "      background-color: #E2EBFA;\n",
              "      box-shadow: 0px 1px 2px rgba(60, 64, 67, 0.3), 0px 1px 3px 1px rgba(60, 64, 67, 0.15);\n",
              "      fill: #174EA6;\n",
              "    }\n",
              "\n",
              "    [theme=dark] .colab-df-convert {\n",
              "      background-color: #3B4455;\n",
              "      fill: #D2E3FC;\n",
              "    }\n",
              "\n",
              "    [theme=dark] .colab-df-convert:hover {\n",
              "      background-color: #434B5C;\n",
              "      box-shadow: 0px 1px 3px 1px rgba(0, 0, 0, 0.15);\n",
              "      filter: drop-shadow(0px 1px 2px rgba(0, 0, 0, 0.3));\n",
              "      fill: #FFFFFF;\n",
              "    }\n",
              "  </style>\n",
              "\n",
              "      <script>\n",
              "        const buttonEl =\n",
              "          document.querySelector('#df-ad657a51-372f-4d5b-8fed-349fcd67ae00 button.colab-df-convert');\n",
              "        buttonEl.style.display =\n",
              "          google.colab.kernel.accessAllowed ? 'block' : 'none';\n",
              "\n",
              "        async function convertToInteractive(key) {\n",
              "          const element = document.querySelector('#df-ad657a51-372f-4d5b-8fed-349fcd67ae00');\n",
              "          const dataTable =\n",
              "            await google.colab.kernel.invokeFunction('convertToInteractive',\n",
              "                                                     [key], {});\n",
              "          if (!dataTable) return;\n",
              "\n",
              "          const docLinkHtml = 'Like what you see? Visit the ' +\n",
              "            '<a target=\"_blank\" href=https://colab.research.google.com/notebooks/data_table.ipynb>data table notebook</a>'\n",
              "            + ' to learn more about interactive tables.';\n",
              "          element.innerHTML = '';\n",
              "          dataTable['output_type'] = 'display_data';\n",
              "          await google.colab.output.renderOutput(dataTable, element);\n",
              "          const docLink = document.createElement('div');\n",
              "          docLink.innerHTML = docLinkHtml;\n",
              "          element.appendChild(docLink);\n",
              "        }\n",
              "      </script>\n",
              "    </div>\n",
              "  </div>\n",
              "  "
            ]
          },
          "metadata": {},
          "execution_count": 16
        }
      ]
    },
    {
      "cell_type": "markdown",
      "source": [
        "## Transformações"
      ],
      "metadata": {
        "id": "c0SAe7h7ofhk"
      }
    },
    {
      "cell_type": "code",
      "source": [
        "df = df.drop_duplicates()"
      ],
      "metadata": {
        "id": "8LShowCPATuf"
      },
      "execution_count": 17,
      "outputs": []
    },
    {
      "cell_type": "code",
      "source": [
        "df.groupby('categoria').size()"
      ],
      "metadata": {
        "id": "OK7xTDem_84E",
        "colab": {
          "base_uri": "https://localhost:8080/"
        },
        "outputId": "c7889df3-d773-47af-c71b-01ab7dd0c244"
      },
      "execution_count": 18,
      "outputs": [
        {
          "output_type": "execute_result",
          "data": {
            "text/plain": [
              "categoria\n",
              "Academic                1\n",
              "Add a comment          67\n",
              "Adult Fiction           1\n",
              "Art                     8\n",
              "Autobiography           9\n",
              "Biography               5\n",
              "Business               12\n",
              "Childrens              29\n",
              "Christian               3\n",
              "Christian Fiction       6\n",
              "Classics               19\n",
              "Contemporary            3\n",
              "Crime                   1\n",
              "Cultural                1\n",
              "Default               152\n",
              "Erotica                 1\n",
              "Fantasy                48\n",
              "Fiction                65\n",
              "Food and Drink         30\n",
              "Health                  4\n",
              "Historical              2\n",
              "Historical Fiction     26\n",
              "History                18\n",
              "Horror                 17\n",
              "Humor                  10\n",
              "Music                  13\n",
              "Mystery                32\n",
              "New Adult               6\n",
              "Nonfiction            110\n",
              "Novels                  1\n",
              "Paranormal              1\n",
              "Parenting               1\n",
              "Philosophy             11\n",
              "Poetry                 19\n",
              "Politics                3\n",
              "Psychology              7\n",
              "Religion                7\n",
              "Romance                35\n",
              "Science                14\n",
              "Science Fiction        16\n",
              "Self Help               5\n",
              "Sequential Art         75\n",
              "Short Stories           1\n",
              "Spirituality            6\n",
              "Sports and Games        5\n",
              "Suspense                1\n",
              "Thriller               11\n",
              "Travel                 11\n",
              "Womens Fiction         17\n",
              "Young Adult            54\n",
              "dtype: int64"
            ]
          },
          "metadata": {},
          "execution_count": 18
        }
      ]
    },
    {
      "cell_type": "code",
      "source": [
        "df.dtypes"
      ],
      "metadata": {
        "colab": {
          "base_uri": "https://localhost:8080/"
        },
        "id": "KH2lzjCx1B8t",
        "outputId": "10b35bf4-2ad4-43da-eecb-f916a94cface"
      },
      "execution_count": 19,
      "outputs": [
        {
          "output_type": "execute_result",
          "data": {
            "text/plain": [
              "nome          object\n",
              "categoria     object\n",
              "preco        float64\n",
              "rating        object\n",
              "estoque       object\n",
              "dtype: object"
            ]
          },
          "metadata": {},
          "execution_count": 19
        }
      ]
    },
    {
      "cell_type": "code",
      "source": [
        "# procura de valores inconsistentes nas colunas\n",
        "df.groupby('estoque').size()"
      ],
      "metadata": {
        "colab": {
          "base_uri": "https://localhost:8080/"
        },
        "id": "YPt4YkqTxYw4",
        "outputId": "87058d4c-e465-4eec-e972-3a7c37c45a94"
      },
      "execution_count": 20,
      "outputs": [
        {
          "output_type": "execute_result",
          "data": {
            "text/plain": [
              "estoque\n",
              "In stock    1000\n",
              "dtype: int64"
            ]
          },
          "metadata": {},
          "execution_count": 20
        }
      ]
    },
    {
      "cell_type": "markdown",
      "source": [
        "## Carregamento do Database Final"
      ],
      "metadata": {
        "id": "xDsh_VcatWkm"
      }
    },
    {
      "cell_type": "code",
      "source": [
        "df.to_csv('db_final.csv',index=False)"
      ],
      "metadata": {
        "id": "OTo898a1rZyO"
      },
      "execution_count": 39,
      "outputs": []
    },
    {
      "cell_type": "markdown",
      "source": [
        "# EXTRA"
      ],
      "metadata": {
        "id": "RDEvBR1itT7O"
      }
    },
    {
      "cell_type": "markdown",
      "source": [
        "Caso estivesse uma empresa quisesse que passasse o dataframe para um banco de dados, poderia-se executar o código abaixo. No caso, optou-se pelo PostgreSQL."
      ],
      "metadata": {
        "id": "ZOuqC9JR_EPZ"
      }
    },
    {
      "cell_type": "code",
      "source": [
        "# conn = psycopg2.connect(\"dbname=livros host= ip_database user=admin password=admin\")"
      ],
      "metadata": {
        "id": "9uduhFl_t2Kc"
      },
      "execution_count": null,
      "outputs": []
    },
    {
      "cell_type": "code",
      "source": [
        "#df.to_sql(db_final,con=conn, if_exists='append')"
      ],
      "metadata": {
        "id": "gA2tcjSet-v8"
      },
      "execution_count": null,
      "outputs": []
    }
  ]
}